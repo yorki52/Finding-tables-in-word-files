{
 "cells": [
  {
   "cell_type": "code",
   "execution_count": 465,
   "metadata": {},
   "outputs": [
    {
     "name": "stdout",
     "output_type": "stream",
     "text": [
      "C:/Users/these/Downloads/df/doc/01.02.2022..docx\n",
      "C:/Users/these/Downloads/df/doc/02.02.2022..docx\n",
      "C:/Users/these/Downloads/df/doc/03.02.2022..docx\n",
      "C:/Users/these/Downloads/df/doc/04.02.2022..docx\n",
      "C:/Users/these/Downloads/df/doc/07.02.2022..docx\n",
      "C:/Users/these/Downloads/df/doc/08.02.2022..docx\n",
      "C:/Users/these/Downloads/df/doc/09.02.2022..docx\n",
      "C:/Users/these/Downloads/df/doc/10.01.2022..docx\n",
      "C:/Users/these/Downloads/df/doc/10.02.2022..docx\n",
      "C:/Users/these/Downloads/df/doc/11.01.2022..docx\n",
      "C:/Users/these/Downloads/df/doc/13.01.2022..docx\n",
      "C:/Users/these/Downloads/df/doc/14.01.2022..docx\n",
      "C:/Users/these/Downloads/df/doc/15.01.2022..docx\n",
      "C:/Users/these/Downloads/df/doc/18.01.2022..docx\n",
      "C:/Users/these/Downloads/df/doc/19.01.2022..docx\n",
      "C:/Users/these/Downloads/df/doc/20.01.2022..docx\n",
      "C:/Users/these/Downloads/df/doc/21.01.2022..docx\n",
      "C:/Users/these/Downloads/df/doc/24.01.2022..docx\n",
      "C:/Users/these/Downloads/df/doc/25.01.2022..docx\n",
      "C:/Users/these/Downloads/df/doc/26.01.2022..docx\n",
      "C:/Users/these/Downloads/df/doc/27.01.2022..docx\n",
      "C:/Users/these/Downloads/df/doc/28.01.2022..docx\n",
      "C:/Users/these/Downloads/df/doc/31.01.2022..docx\n"
     ]
    }
   ],
   "source": [
    "import glob, os\n",
    "import pandas as pd\n",
    "from docx import Document\n",
    "\n",
    "path = 'C:/Users/these/Downloads/df/doc/' #путь к файлу эксель(папка) обязательно!\n",
    "name = '01.02.2022' #название файла,необязательно если делается цикл по всем файлам в папке\n",
    "\n",
    "a = []\n",
    "\n",
    "import glob, os\n",
    "os.chdir(path)\n",
    "files = []\n",
    "for file in glob.glob(\"*.docx\"):\n",
    "    filename = path + file \n",
    "    print(filename)\n",
    "    document = Document(filename)\n",
    "    table = document.tables\n",
    "    df = []\n",
    "    df1 =[]\n",
    "   #a = []   #если нам нужно много отдельных файлов с каждым днем, то делаем эту строку как комментарий\n",
    "    df_tables = []\n",
    "    for table in document.tables:\n",
    "        df = [['' for i in range(len(table.columns))] for j in range(len(table.rows))]\n",
    "        for i, row in enumerate(table.rows):\n",
    "            for j, cell in enumerate(row.cells):\n",
    "                if cell.text:\n",
    "                    df[i][j] = cell.text\n",
    "        df_tables.append(pd.DataFrame(df))\n",
    "    df = df_tables[0]\n",
    "    df = df[1:]                            #убираем первую ненужную строку\n",
    "    df = df.rename(columns = {0:'номер',1:'ФИО',2:'номер карты',3:'умо',4:'диагноз',5:'врач'}) #переименовываем названия столбцов\n",
    "    df = df.replace(r'^\\s*$', 0, regex=True) #заменяем пустые клетки на 0(так удобнее потом находить диагнозы)\n",
    "    for i in range(1,len(df['диагноз'])+1):\n",
    "        if df['диагноз'][i] != 0:\n",
    "            a.append(df.loc[i])\n",
    "df1 = pd.DataFrame(a)   \n",
    "df1.to_excel('all'+'.xlsx') \n",
    "    \n",
    "    # эта версия с общим большим файлом для всех данных"
   ]
  },
  {
   "cell_type": "code",
   "execution_count": 473,
   "metadata": {},
   "outputs": [
    {
     "name": "stdout",
     "output_type": "stream",
     "text": [
      "C:/Users/these/Downloads/df/doc/01.02.2022..docx\n",
      "C:/Users/these/Downloads/df/doc/02.02.2022..docx\n",
      "C:/Users/these/Downloads/df/doc/03.02.2022..docx\n",
      "C:/Users/these/Downloads/df/doc/04.02.2022..docx\n",
      "C:/Users/these/Downloads/df/doc/07.02.2022..docx\n",
      "C:/Users/these/Downloads/df/doc/08.02.2022..docx\n",
      "C:/Users/these/Downloads/df/doc/09.02.2022..docx\n",
      "C:/Users/these/Downloads/df/doc/10.01.2022..docx\n",
      "C:/Users/these/Downloads/df/doc/10.02.2022..docx\n",
      "C:/Users/these/Downloads/df/doc/11.01.2022..docx\n",
      "C:/Users/these/Downloads/df/doc/13.01.2022..docx\n",
      "C:/Users/these/Downloads/df/doc/14.01.2022..docx\n",
      "C:/Users/these/Downloads/df/doc/15.01.2022..docx\n",
      "C:/Users/these/Downloads/df/doc/18.01.2022..docx\n",
      "C:/Users/these/Downloads/df/doc/19.01.2022..docx\n",
      "C:/Users/these/Downloads/df/doc/20.01.2022..docx\n",
      "C:/Users/these/Downloads/df/doc/21.01.2022..docx\n",
      "C:/Users/these/Downloads/df/doc/24.01.2022..docx\n",
      "C:/Users/these/Downloads/df/doc/25.01.2022..docx\n",
      "C:/Users/these/Downloads/df/doc/26.01.2022..docx\n",
      "C:/Users/these/Downloads/df/doc/27.01.2022..docx\n",
      "C:/Users/these/Downloads/df/doc/28.01.2022..docx\n",
      "C:/Users/these/Downloads/df/doc/31.01.2022..docx\n"
     ]
    }
   ],
   "source": [
    "import glob, os\n",
    "import pandas as pd\n",
    "from docx import Document\n",
    "\n",
    "path = 'C:/Users/these/Downloads/df/doc/' #путь к файлу эксель(папка) обязательно!\n",
    "name = '01.02.2022' #название файла,необязательно если делается цикл по всем файлам в папке\n",
    "\n",
    "a = []\n",
    "\n",
    "import glob, os\n",
    "os.chdir(path)\n",
    "files = []\n",
    "for file in glob.glob(\"*.docx\"):\n",
    "    filename = path + file \n",
    "    print(filename)\n",
    "    document = Document(filename)\n",
    "    table = document.tables\n",
    "    df = []\n",
    "    df1 =[]\n",
    "    a = []   #если нам нужно много отдельных файлов с каждым днем, то убираем комментарий \n",
    "    df_tables = []\n",
    "    for table in document.tables:\n",
    "        df = [['' for i in range(len(table.columns))] for j in range(len(table.rows))]\n",
    "        for i, row in enumerate(table.rows):\n",
    "            for j, cell in enumerate(row.cells):\n",
    "                if cell.text:\n",
    "                    df[i][j] = cell.text\n",
    "        df_tables.append(pd.DataFrame(df))\n",
    "    df = df_tables[0]\n",
    "    df = df[1:]                            #убираем первую ненужную строку\n",
    "    df = df.rename(columns = {0:'номер',1:'ФИО',2:'номер карты',3:'умо',4:'диагноз',5:'врач'}) #переименовываем названия столбцов\n",
    "    df = df.replace(r'^\\s*$', 0, regex=True) #заменяем пустые клетки на 0(так удобнее потом находить диагнозы)\n",
    "    for i in range(1,len(df['диагноз'])+1):\n",
    "        if df['диагноз'][i] != 0:\n",
    "            a.append(df.loc[i])\n",
    "        df1 = pd.DataFrame(a)   \n",
    "        df1.to_excel(filename +'.xlsx') \n",
    "    \n",
    "     # эта версия с отдельными таблицами по всем дням"
   ]
  },
  {
   "cell_type": "code",
   "execution_count": null,
   "metadata": {},
   "outputs": [],
   "source": []
  },
  {
   "cell_type": "code",
   "execution_count": null,
   "metadata": {},
   "outputs": [],
   "source": []
  },
  {
   "cell_type": "code",
   "execution_count": 401,
   "metadata": {},
   "outputs": [],
   "source": [
    "\n"
   ]
  },
  {
   "cell_type": "code",
   "execution_count": null,
   "metadata": {},
   "outputs": [],
   "source": []
  },
  {
   "cell_type": "code",
   "execution_count": 403,
   "metadata": {},
   "outputs": [],
   "source": []
  },
  {
   "cell_type": "code",
   "execution_count": null,
   "metadata": {},
   "outputs": [],
   "source": []
  },
  {
   "cell_type": "code",
   "execution_count": null,
   "metadata": {},
   "outputs": [],
   "source": []
  },
  {
   "cell_type": "code",
   "execution_count": null,
   "metadata": {},
   "outputs": [],
   "source": []
  }
 ],
 "metadata": {
  "kernelspec": {
   "display_name": "Python 3",
   "language": "python",
   "name": "python3"
  },
  "language_info": {
   "codemirror_mode": {
    "name": "ipython",
    "version": 3
   },
   "file_extension": ".py",
   "mimetype": "text/x-python",
   "name": "python",
   "nbconvert_exporter": "python",
   "pygments_lexer": "ipython3",
   "version": "3.7.6"
  }
 },
 "nbformat": 4,
 "nbformat_minor": 4
}
